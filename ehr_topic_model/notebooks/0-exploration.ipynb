{
 "cells": [
  {
   "cell_type": "code",
   "execution_count": 53,
   "metadata": {},
   "outputs": [],
   "source": [
    "import re\n",
    "from pathlib import Path\n",
    "import pandas"
   ]
  },
  {
   "cell_type": "code",
   "execution_count": 41,
   "metadata": {},
   "outputs": [],
   "source": [
    "data = Path(\"data/lda_test_100_cll_progress.csv\")\n",
    "\n",
    "df = pandas.read_csv(data, index_col=0)"
   ]
  },
  {
   "cell_type": "code",
   "execution_count": 67,
   "metadata": {},
   "outputs": [],
   "source": [
    "# from sklearn.feature_extraction.text import CountVectorizer\n",
    "from sklearn.feature_extraction.text import TfidfVectorizer\n",
    "from sklearn.feature_extraction import text\n",
    "from sklearn.decomposition import LatentDirichletAllocation"
   ]
  },
  {
   "cell_type": "code",
   "execution_count": 83,
   "metadata": {},
   "outputs": [],
   "source": [
    "# unit_stop_words = text.ENGLISH_STOP_WORDS.union(['mg', 'ml', 'ul', 'hrs', 'NUMmg', 'NUMml', 'NUMul', 'NUMhrs'])\n",
    "unit_stop_words = ['mg', 'ml', 'ul', 'hrs', 'NUMmg', 'NUMml', 'NUMul', 'NUMhrs']"
   ]
  },
  {
   "cell_type": "code",
   "execution_count": 90,
   "metadata": {},
   "outputs": [],
   "source": [
    "tf_vectorizer = TfidfVectorizer(preprocessor=lambda x: re.sub(r'(\\d)+', 'NUM', x.lower()), max_df=0.9, stop_words=unit_stop_words)\n",
    "# tf_vectorizer = CountVectorizer(preprocessor=lambda x: re.sub(r'(\\d)+', 'NUM', x.lower()), max_df=0.9, stop_words=unit_stop_words)\n",
    "tf = tf_vectorizer.fit_transform(df.full_note_norm)\n",
    "tf_feature_names = tf_vectorizer.get_feature_names()\n",
    "lda = LatentDirichletAllocation(n_components=20, max_iter=5, learning_method='online', learning_offset=10.,random_state=0).fit(tf)"
   ]
  },
  {
   "cell_type": "code",
   "execution_count": 60,
   "metadata": {},
   "outputs": [],
   "source": [
    "def display_topics(model, feature_names, no_top_words):\n",
    "    for topic_idx, topic in enumerate(model.components_):\n",
    "        print(\"Topic %d:\" % (topic_idx))\n",
    "        print(\" \".join([feature_names[i] for i in topic.argsort()[:-no_top_words - 1:-1]]))"
   ]
  },
  {
   "cell_type": "code",
   "execution_count": 91,
   "metadata": {},
   "outputs": [
    {
     "name": "stdout",
     "output_type": "stream",
     "text": [
      "Topic 0:\n",
      "drowsiness viruria dre own pamelor plus viagra dysphagia provided nimesh mucosa versus comfortably hd final echinocytes heave warfarin slowly measuring\n",
      "Topic 1:\n",
      "oral wishes jp adj malone phlegm cephazolin referred labs product distal obese repeating drank reevaluation ativan hospital getting tartrate assessed\n",
      "Topic 2:\n",
      "to with pt in tablet patient no gait transfers last rw arthralgias the mgsennosides bed hours NUMx orally home oral\n",
      "Topic 3:\n",
      "trach collar tolerated last tablet recent cva his diaz lobes weaning injection to death motrin stridor admission recheck pills ct\n",
      "Topic 4:\n",
      "with swallow her slp upright for liquids pt safety solids sw to st compensatory thin diet pager strategies op medications\n",
      "Topic 5:\n",
      "the with check iron inh would housestaff for uric gluconate bronchospasm fish regarding hypoalbuminemia hoh agree total NUMm asbestos be\n",
      "Topic 6:\n",
      "to no with pt labs oral the in last patient for on final tablet he is at recent qNUMh continue\n",
      "Topic 7:\n",
      "updated sbp rll tablet glucophage hypertrophic NUMa hcoNUM verified tbNUM repositioned epoch indication bottone supine chha tenormin coordinated lispro accentuated\n",
      "Topic 8:\n",
      "dependent restart alkphos systems bush administer skeleton delivered waste bunNUMcaNUM wbc spoken luts agnes put betty louis is glu xr\n",
      "Topic 9:\n",
      "deficit tinging oral clothing memy methadone attributed prefers eyes shifts philadelphia strength anaplastic ptt hematuria control focal ceftazidime mount magnesiumNUM\n",
      "Topic 10:\n",
      "cornell nicotine radiculopathy chronic immunosupressants tm phos viagra final scan rfl dc nonspecific nature apoptotic urology hematologic id valtrex responded\n",
      "Topic 11:\n",
      "last he tcoNUMven lines breathing is hypercoaguable mean followsa rai lipase shaky imp polychrom td window lic while ebv opens\n",
      "Topic 12:\n",
      "no tablet to take by the with she mouth daily in patient last is oral for history pain or labs\n",
      "Topic 13:\n",
      "temperature patient to source for in kg os labs urinary diet tablet with choking questions spoNUM no tympanictympanictympanicaxillaryresp the inch\n",
      "Topic 14:\n",
      "pt jugular agitated taken tablets ra gNUMpd clothing auscultation blanching obesity vascular sources valve restrict NUMcreat cxr prop calzones sclera\n",
      "Topic 15:\n",
      "tablet solution beliefs arrhythmia ophthalmic uncontrolled percocet anxietyNUM mgsennosides manual midnight other presented labs allergies affects management mrsa monitoring replacement\n",
      "Topic 16:\n",
      "no radiation normal sterile muscular cough rechecking irritable cc subsets cdi appointments alert rare mucosae motion express multisystem intact coherent\n",
      "Topic 17:\n",
      "manual tablet meq cmv flagyl sex diff NUMmp cvp po verbalization crystals september unknown morphology bipap communion middle levels csf\n",
      "Topic 18:\n",
      "ticu mgbrimonidine rounds temodar diameter returning nok mgmorphine jaffe menthol sexually canal pepcid smokeless mgintravenousqNUMh analysis interval bank heartburn loratadine\n",
      "Topic 19:\n",
      "mediport wf fasciculations donor says instead abuse structures quadrants flowtron cdi lomotil maturation prevnar pnd cousin carotids agus kapidex procrit\n"
     ]
    }
   ],
   "source": [
    "display_topics(lda, tf_feature_names, 20)"
   ]
  }
 ],
 "metadata": {
  "kernelspec": {
   "display_name": "ehr-topic-model",
   "language": "python",
   "name": "ehr-topic-model"
  },
  "language_info": {
   "codemirror_mode": {
    "name": "ipython",
    "version": 3
   },
   "file_extension": ".py",
   "mimetype": "text/x-python",
   "name": "python",
   "nbconvert_exporter": "python",
   "pygments_lexer": "ipython3",
   "version": "3.8.5"
  }
 },
 "nbformat": 4,
 "nbformat_minor": 4
}

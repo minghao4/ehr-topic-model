{
 "cells": [
  {
   "cell_type": "code",
   "execution_count": 2,
   "metadata": {},
   "outputs": [],
   "source": [
    "import re\n",
    "from pathlib import Path\n",
    "import pandas"
   ]
  },
  {
   "cell_type": "code",
   "execution_count": 4,
   "metadata": {},
   "outputs": [],
   "source": [
    "data = Path(\"../data/lda_test_100_cll_progress.csv\")\n",
    "\n",
    "df = pandas.read_csv(data, index_col=0)"
   ]
  },
  {
   "cell_type": "code",
   "execution_count": 5,
   "metadata": {},
   "outputs": [],
   "source": [
    "from sklearn.feature_extraction.text import CountVectorizer\n",
    "from sklearn.feature_extraction.text import TfidfVectorizer\n",
    "from sklearn.feature_extraction import text\n",
    "from sklearn.decomposition import LatentDirichletAllocation"
   ]
  },
  {
   "cell_type": "code",
   "execution_count": 68,
   "metadata": {},
   "outputs": [],
   "source": [
    "# unit_stop_words = text.ENGLISH_STOP_WORDS.union(['mg', 'ml', 'ul', 'dl', 'hrs', 'NUMmg', 'NUMml', 'NUMul', 'NUMhrs'])\n",
    "unit_stop_words = ['mg', 'ml', 'ul', 'dl', 'hrs', 'and', 'with', 'no', 'to', 'is', 'of', 'has', 'on', 'for', 'the', 'he', 'she', 'in', 'this', 'was', 'or', 'by', 'not', 'as', 'at', 'his', 'her', 'does', 'yes', 'that', 'we', 'will', 'are', 'who', 'be', 'dr', 'if', 'could', 'patient', 'pt', 'take', 'from', 'there', 'kg', 'daily']"
   ]
  },
  {
   "cell_type": "code",
   "execution_count": 69,
   "metadata": {},
   "outputs": [],
   "source": [
    "# tf_vectorizer = TfidfVectorizer(preprocessor=lambda x: re.sub(r'(\\d)+', 'NUM', x.lower()), max_df=0.9, stop_words=unit_stop_words)\n",
    "tf_vectorizer = CountVectorizer(preprocessor=lambda x: ''.join(c for c in x if not c.isdigit()).lower(), max_df=0.95, stop_words=unit_stop_words)\n",
    "# tf_vectorizer = TfidfVectorizer(stop_words=unit_stop_words)\n",
    "# tf_vectorizer = CountVectorizer(max_df=0.95, stop_words=unit_stop_words)\n",
    "tf = tf_vectorizer.fit_transform(df.full_note_norm)\n",
    "tf_feature_names = tf_vectorizer.get_feature_names()\n",
    "lda = LatentDirichletAllocation(n_components=5, max_iter=10, learning_method='online', learning_offset=10.,random_state=0).fit(tf)"
   ]
  },
  {
   "cell_type": "code",
   "execution_count": 60,
   "metadata": {},
   "outputs": [],
   "source": [
    "def display_topics(model, feature_names, no_top_words):\n",
    "    for topic_idx, topic in enumerate(model.components_):\n",
    "        print(\"Topic %d:\" % (topic_idx))\n",
    "        print(\" \".join([feature_names[i] for i in topic.argsort()[:-no_top_words - 1:-1]]))"
   ]
  },
  {
   "cell_type": "code",
   "execution_count": 70,
   "metadata": {},
   "outputs": [
    {
     "name": "stdout",
     "output_type": "stream",
     "text": [
      "Topic 0:\n",
      "transfer diff manual sigmoid medicine labslabs tablet see aemergency last\n",
      "Topic 1:\n",
      "sw home bed gait diet therapeutic minutes ambulation discharge therapy\n",
      "Topic 2:\n",
      "final history last tablet labs oral day see mouth continue\n",
      "Topic 3:\n",
      "tablet oral labs last history recent qh final mouth diff\n",
      "Topic 4:\n",
      "care sw requires history hha fim score assistance intern bronchitis\n"
     ]
    }
   ],
   "source": [
    "display_topics(lda, tf_feature_names, 10)"
   ]
  },
  {
   "cell_type": "code",
   "execution_count": 95,
   "metadata": {},
   "outputs": [],
   "source": [
    "tkz = tf_vectorizer.build_tokenizer()\n",
    "df2 = df.full_note_norm.apply(tkz)"
   ]
  },
  {
   "cell_type": "code",
   "execution_count": 213,
   "metadata": {},
   "outputs": [],
   "source": [
    "import numpy as np\n",
    "vocab = np.array([x for x in tf_vectorizer.vocabulary_.keys()])"
   ]
  },
  {
   "cell_type": "code",
   "execution_count": 223,
   "metadata": {},
   "outputs": [
    {
     "data": {
      "text/plain": [
       "scipy.sparse.csr.csr_matrix"
      ]
     },
     "execution_count": 223,
     "metadata": {},
     "output_type": "execute_result"
    }
   ],
   "source": [
    "type(tf)"
   ]
  },
  {
   "cell_type": "code",
   "execution_count": 117,
   "metadata": {},
   "outputs": [
    {
     "data": {
      "text/plain": [
       "(100, 6196)"
      ]
     },
     "execution_count": 117,
     "metadata": {},
     "output_type": "execute_result"
    }
   ],
   "source": [
    "tf.shape"
   ]
  },
  {
   "cell_type": "code",
   "execution_count": 112,
   "metadata": {},
   "outputs": [],
   "source": [
    "import tmtoolkit"
   ]
  },
  {
   "cell_type": "code",
   "execution_count": 220,
   "metadata": {},
   "outputs": [
    {
     "data": {
      "text/plain": [
       "-2.800670926968757"
      ]
     },
     "execution_count": 220,
     "metadata": {},
     "output_type": "execute_result"
    }
   ],
   "source": [
    "# tmtoolkit.topicmod.evaluate.metric_coherence_gensim(measure='u_mass', topic_word_distrib=lda.components_, dtm=tf, vocab=vocab, texts=df.full_note_norm.values, return_mean=True)\n",
    "tmtoolkit.topicmod.evaluate.metric_coherence_mimno_2011(topic_word_distrib=lda.components_, dtm=tf, normalize=True, return_mean=True)"
   ]
  }
 ],
 "metadata": {
  "kernelspec": {
   "display_name": "ehr-topic-model",
   "language": "python",
   "name": "ehr-topic-model"
  },
  "language_info": {
   "codemirror_mode": {
    "name": "ipython",
    "version": 3
   },
   "file_extension": ".py",
   "mimetype": "text/x-python",
   "name": "python",
   "nbconvert_exporter": "python",
   "pygments_lexer": "ipython3",
   "version": "3.8.5"
  }
 },
 "nbformat": 4,
 "nbformat_minor": 4
}
